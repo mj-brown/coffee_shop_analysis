{
 "cells": [
  {
   "cell_type": "markdown",
   "metadata": {},
   "source": [
    "# Analysis of Coffee Shop Sales\n",
    "\n",
    "In this analysis we have a dataset, `coffee_shop_sales.csv`, which provides information from various coffee shops in NYC and the transactions that occured at those coffee shops. The purpose of this analysis is to conduct an evaluation of the data to answer the following questions:\n",
    "\n",
    "1. Does the location of the coffee shop have an impact on the number of transactions?\n",
    "2. Does the time of day have an impact on the number of transactions?\n",
    "3. Does the location of the coffee shop have an impact on the product type of the transactions?\n",
    "4. What is the most sold product?\n",
    "5. What is the least sold product?\n",
    "6. Do coffee shops sell more coffee in the winter months?"
   ]
  },
  {
   "cell_type": "markdown",
   "metadata": {},
   "source": [
    "## Introduction"
   ]
  },
  {
   "cell_type": "code",
   "execution_count": 13,
   "metadata": {},
   "outputs": [
    {
     "name": "stdout",
     "output_type": "stream",
     "text": [
      "   transaction_id transaction_date transaction_time  transaction_qty  \\\n",
      "0               1         1/1/2023          7:06:11                2   \n",
      "1               2         1/1/2023          7:08:56                2   \n",
      "2               3         1/1/2023          7:14:04                2   \n",
      "3               4         1/1/2023          7:20:24                1   \n",
      "4               5         1/1/2023          7:22:41                2   \n",
      "\n",
      "   store_id   store_location  product_id  unit_price    product_category  \\\n",
      "0         5  Lower Manhattan          32         3.0              Coffee   \n",
      "1         5  Lower Manhattan          57         3.1                 Tea   \n",
      "2         5  Lower Manhattan          59         4.5  Drinking Chocolate   \n",
      "3         5  Lower Manhattan          22         2.0              Coffee   \n",
      "4         5  Lower Manhattan          57         3.1                 Tea   \n",
      "\n",
      "            product_type               product_detail Revenue  Month Month.1  \\\n",
      "0  Gourmet brewed coffee                  Ethiopia Rg   $6.00      1     Jan   \n",
      "1        Brewed Chai tea     Spicy Eye Opener Chai Lg   $6.20      1     Jan   \n",
      "2          Hot chocolate            Dark chocolate Lg   $9.00      1     Jan   \n",
      "3            Drip coffee  Our Old Time Diner Blend Sm   $2.00      1     Jan   \n",
      "4        Brewed Chai tea     Spicy Eye Opener Chai Lg   $6.20      1     Jan   \n",
      "\n",
      "   Weekday Weekday.1  Hour  \n",
      "0        7       Sun     7  \n",
      "1        7       Sun     7  \n",
      "2        7       Sun     7  \n",
      "3        7       Sun     7  \n",
      "4        7       Sun     7  \n"
     ]
    }
   ],
   "source": [
    "# import ncecessary libraries\n",
    "import pandas as pd\n",
    "import numpy as np\n",
    "import matplotlib.pyplot as plt\n",
    "import seaborn as sns\n",
    "\n",
    "# load coffee shope sales data\n",
    "df = pd.read_csv('coffee_shop_sales.csv')\n",
    "\n",
    "# display first 5 rows\n",
    "print(df.head())"
   ]
  },
  {
   "cell_type": "code",
   "execution_count": 4,
   "metadata": {},
   "outputs": [
    {
     "data": {
      "text/plain": [
       "transaction_id      0\n",
       "transaction_date    0\n",
       "transaction_time    0\n",
       "transaction_qty     0\n",
       "store_id            0\n",
       "store_location      0\n",
       "product_id          0\n",
       "unit_price          0\n",
       "product_category    0\n",
       "product_type        0\n",
       "product_detail      0\n",
       "Revenue             0\n",
       "Month               0\n",
       "Month.1             0\n",
       "Weekday             0\n",
       "Weekday.1           0\n",
       "Hour                0\n",
       "dtype: int64"
      ]
     },
     "execution_count": 4,
     "metadata": {},
     "output_type": "execute_result"
    }
   ],
   "source": [
    "# check for missing values\n",
    "df.isna().sum()"
   ]
  },
  {
   "cell_type": "code",
   "execution_count": 5,
   "metadata": {},
   "outputs": [
    {
     "data": {
      "text/plain": [
       "transaction_id        int64\n",
       "transaction_date     object\n",
       "transaction_time     object\n",
       "transaction_qty       int64\n",
       "store_id              int64\n",
       "store_location       object\n",
       "product_id            int64\n",
       "unit_price          float64\n",
       "product_category     object\n",
       "product_type         object\n",
       "product_detail       object\n",
       "Revenue              object\n",
       "Month                 int64\n",
       "Month.1              object\n",
       "Weekday               int64\n",
       "Weekday.1            object\n",
       "Hour                  int64\n",
       "dtype: object"
      ]
     },
     "execution_count": 5,
     "metadata": {},
     "output_type": "execute_result"
    }
   ],
   "source": [
    "# check for column types\n",
    "df.dtypes"
   ]
  },
  {
   "cell_type": "code",
   "execution_count": 8,
   "metadata": {},
   "outputs": [
    {
     "name": "stdout",
     "output_type": "stream",
     "text": [
      "<class 'pandas.core.frame.DataFrame'>\n",
      "RangeIndex: 149116 entries, 0 to 149115\n",
      "Data columns (total 17 columns):\n",
      " #   Column            Non-Null Count   Dtype  \n",
      "---  ------            --------------   -----  \n",
      " 0   transaction_id    149116 non-null  int64  \n",
      " 1   transaction_date  149116 non-null  object \n",
      " 2   transaction_time  149116 non-null  object \n",
      " 3   transaction_qty   149116 non-null  int64  \n",
      " 4   store_id          149116 non-null  int64  \n",
      " 5   store_location    149116 non-null  object \n",
      " 6   product_id        149116 non-null  int64  \n",
      " 7   unit_price        149116 non-null  float64\n",
      " 8   product_category  149116 non-null  object \n",
      " 9   product_type      149116 non-null  object \n",
      " 10  product_detail    149116 non-null  object \n",
      " 11  Revenue           149116 non-null  object \n",
      " 12  Month             149116 non-null  int64  \n",
      " 13  Month.1           149116 non-null  object \n",
      " 14  Weekday           149116 non-null  int64  \n",
      " 15  Weekday.1         149116 non-null  object \n",
      " 16  Hour              149116 non-null  int64  \n",
      "dtypes: float64(1), int64(7), object(9)\n",
      "memory usage: 19.3+ MB\n"
     ]
    }
   ],
   "source": [
    "# Review basic information about dataset\n",
    "df.info()"
   ]
  },
  {
   "cell_type": "markdown",
   "metadata": {},
   "source": [
    "## Analysis"
   ]
  },
  {
   "cell_type": "markdown",
   "metadata": {},
   "source": [
    "1. Basic summary statistics\n",
    "2. Find highest selling product\n",
    "3. Find Lowest selling product\n"
   ]
  },
  {
   "cell_type": "code",
   "execution_count": 9,
   "metadata": {},
   "outputs": [
    {
     "data": {
      "text/html": [
       "<div>\n",
       "<style scoped>\n",
       "    .dataframe tbody tr th:only-of-type {\n",
       "        vertical-align: middle;\n",
       "    }\n",
       "\n",
       "    .dataframe tbody tr th {\n",
       "        vertical-align: top;\n",
       "    }\n",
       "\n",
       "    .dataframe thead th {\n",
       "        text-align: right;\n",
       "    }\n",
       "</style>\n",
       "<table border=\"1\" class=\"dataframe\">\n",
       "  <thead>\n",
       "    <tr style=\"text-align: right;\">\n",
       "      <th></th>\n",
       "      <th>transaction_id</th>\n",
       "      <th>transaction_qty</th>\n",
       "      <th>store_id</th>\n",
       "      <th>product_id</th>\n",
       "      <th>unit_price</th>\n",
       "      <th>Month</th>\n",
       "      <th>Weekday</th>\n",
       "      <th>Hour</th>\n",
       "    </tr>\n",
       "  </thead>\n",
       "  <tbody>\n",
       "    <tr>\n",
       "      <th>count</th>\n",
       "      <td>149116.000000</td>\n",
       "      <td>149116.000000</td>\n",
       "      <td>149116.000000</td>\n",
       "      <td>149116.000000</td>\n",
       "      <td>149116.000000</td>\n",
       "      <td>149116.000000</td>\n",
       "      <td>149116.000000</td>\n",
       "      <td>149116.000000</td>\n",
       "    </tr>\n",
       "    <tr>\n",
       "      <th>mean</th>\n",
       "      <td>74737.371872</td>\n",
       "      <td>1.438276</td>\n",
       "      <td>5.342063</td>\n",
       "      <td>47.918607</td>\n",
       "      <td>3.382219</td>\n",
       "      <td>3.988881</td>\n",
       "      <td>3.982336</td>\n",
       "      <td>11.735790</td>\n",
       "    </tr>\n",
       "    <tr>\n",
       "      <th>std</th>\n",
       "      <td>43153.600016</td>\n",
       "      <td>0.542509</td>\n",
       "      <td>2.074241</td>\n",
       "      <td>17.930020</td>\n",
       "      <td>2.658723</td>\n",
       "      <td>1.673091</td>\n",
       "      <td>1.996650</td>\n",
       "      <td>3.764662</td>\n",
       "    </tr>\n",
       "    <tr>\n",
       "      <th>min</th>\n",
       "      <td>1.000000</td>\n",
       "      <td>1.000000</td>\n",
       "      <td>3.000000</td>\n",
       "      <td>1.000000</td>\n",
       "      <td>0.800000</td>\n",
       "      <td>1.000000</td>\n",
       "      <td>1.000000</td>\n",
       "      <td>6.000000</td>\n",
       "    </tr>\n",
       "    <tr>\n",
       "      <th>25%</th>\n",
       "      <td>37335.750000</td>\n",
       "      <td>1.000000</td>\n",
       "      <td>3.000000</td>\n",
       "      <td>33.000000</td>\n",
       "      <td>2.500000</td>\n",
       "      <td>3.000000</td>\n",
       "      <td>2.000000</td>\n",
       "      <td>9.000000</td>\n",
       "    </tr>\n",
       "    <tr>\n",
       "      <th>50%</th>\n",
       "      <td>74727.500000</td>\n",
       "      <td>1.000000</td>\n",
       "      <td>5.000000</td>\n",
       "      <td>47.000000</td>\n",
       "      <td>3.000000</td>\n",
       "      <td>4.000000</td>\n",
       "      <td>4.000000</td>\n",
       "      <td>11.000000</td>\n",
       "    </tr>\n",
       "    <tr>\n",
       "      <th>75%</th>\n",
       "      <td>112094.250000</td>\n",
       "      <td>2.000000</td>\n",
       "      <td>8.000000</td>\n",
       "      <td>60.000000</td>\n",
       "      <td>3.750000</td>\n",
       "      <td>5.000000</td>\n",
       "      <td>6.000000</td>\n",
       "      <td>15.000000</td>\n",
       "    </tr>\n",
       "    <tr>\n",
       "      <th>max</th>\n",
       "      <td>149456.000000</td>\n",
       "      <td>8.000000</td>\n",
       "      <td>8.000000</td>\n",
       "      <td>87.000000</td>\n",
       "      <td>45.000000</td>\n",
       "      <td>6.000000</td>\n",
       "      <td>7.000000</td>\n",
       "      <td>20.000000</td>\n",
       "    </tr>\n",
       "  </tbody>\n",
       "</table>\n",
       "</div>"
      ],
      "text/plain": [
       "       transaction_id  transaction_qty       store_id     product_id  \\\n",
       "count   149116.000000    149116.000000  149116.000000  149116.000000   \n",
       "mean     74737.371872         1.438276       5.342063      47.918607   \n",
       "std      43153.600016         0.542509       2.074241      17.930020   \n",
       "min          1.000000         1.000000       3.000000       1.000000   \n",
       "25%      37335.750000         1.000000       3.000000      33.000000   \n",
       "50%      74727.500000         1.000000       5.000000      47.000000   \n",
       "75%     112094.250000         2.000000       8.000000      60.000000   \n",
       "max     149456.000000         8.000000       8.000000      87.000000   \n",
       "\n",
       "          unit_price          Month        Weekday           Hour  \n",
       "count  149116.000000  149116.000000  149116.000000  149116.000000  \n",
       "mean        3.382219       3.988881       3.982336      11.735790  \n",
       "std         2.658723       1.673091       1.996650       3.764662  \n",
       "min         0.800000       1.000000       1.000000       6.000000  \n",
       "25%         2.500000       3.000000       2.000000       9.000000  \n",
       "50%         3.000000       4.000000       4.000000      11.000000  \n",
       "75%         3.750000       5.000000       6.000000      15.000000  \n",
       "max        45.000000       6.000000       7.000000      20.000000  "
      ]
     },
     "execution_count": 9,
     "metadata": {},
     "output_type": "execute_result"
    }
   ],
   "source": [
    "# find summary statistics\n",
    "df.describe()"
   ]
  },
  {
   "cell_type": "code",
   "execution_count": 11,
   "metadata": {},
   "outputs": [
    {
     "name": "stdout",
     "output_type": "stream",
     "text": [
      "Brewed Chai tea\n"
     ]
    }
   ],
   "source": [
    "highest_selling_product = df.groupby('product_type')['transaction_qty'].sum().idxmax()\n",
    "print(highest_selling_product)"
   ]
  },
  {
   "cell_type": "code",
   "execution_count": 12,
   "metadata": {},
   "outputs": [
    {
     "name": "stdout",
     "output_type": "stream",
     "text": [
      "Green beans\n"
     ]
    }
   ],
   "source": [
    "lowest_selling_product = df.groupby('product_type')['transaction_qty'].sum().idxmin()\n",
    "print(lowest_selling_product)"
   ]
  },
  {
   "cell_type": "markdown",
   "metadata": {},
   "source": [
    "Sort data into separate lists for each location"
   ]
  },
  {
   "cell_type": "code",
   "execution_count": 17,
   "metadata": {},
   "outputs": [
    {
     "name": "stdout",
     "output_type": "stream",
     "text": [
      "There are 3 unique store locations.\n",
      "['Lower Manhattan' \"Hell's Kitchen\" 'Astoria']\n",
      "        transaction_id transaction_date transaction_time  transaction_qty  \\\n",
      "0                    1         1/1/2023          7:06:11                2   \n",
      "1                    2         1/1/2023          7:08:56                2   \n",
      "2                    3         1/1/2023          7:14:04                2   \n",
      "3                    4         1/1/2023          7:20:24                1   \n",
      "4                    5         1/1/2023          7:22:41                2   \n",
      "...                ...              ...              ...              ...   \n",
      "149045          149386        6/30/2023         18:28:56                2   \n",
      "149046          149387        6/30/2023         18:30:02                1   \n",
      "149047          149388        6/30/2023         18:30:02                1   \n",
      "149094          149435        6/30/2023         19:40:09                2   \n",
      "149110          149451        6/30/2023         20:16:31                2   \n",
      "\n",
      "        store_id   store_location  product_id  unit_price    product_category  \\\n",
      "0              5  Lower Manhattan          32        3.00              Coffee   \n",
      "1              5  Lower Manhattan          57        3.10                 Tea   \n",
      "2              5  Lower Manhattan          59        4.50  Drinking Chocolate   \n",
      "3              5  Lower Manhattan          22        2.00              Coffee   \n",
      "4              5  Lower Manhattan          57        3.10                 Tea   \n",
      "...          ...              ...         ...         ...                 ...   \n",
      "149045         5  Lower Manhattan          22        2.00              Coffee   \n",
      "149046         5  Lower Manhattan          59        4.50  Drinking Chocolate   \n",
      "149047         5  Lower Manhattan          72        3.25              Bakery   \n",
      "149094         5  Lower Manhattan          58        3.50  Drinking Chocolate   \n",
      "149110         5  Lower Manhattan          42        2.50                 Tea   \n",
      "\n",
      "                 product_type               product_detail Revenue  Month  \\\n",
      "0       Gourmet brewed coffee                  Ethiopia Rg   $6.00      1   \n",
      "1             Brewed Chai tea     Spicy Eye Opener Chai Lg   $6.20      1   \n",
      "2               Hot chocolate            Dark chocolate Lg   $9.00      1   \n",
      "3                 Drip coffee  Our Old Time Diner Blend Sm   $2.00      1   \n",
      "4             Brewed Chai tea     Spicy Eye Opener Chai Lg   $6.20      1   \n",
      "...                       ...                          ...     ...    ...   \n",
      "149045            Drip coffee  Our Old Time Diner Blend Sm   $4.00      6   \n",
      "149046          Hot chocolate            Dark chocolate Lg   $4.50      6   \n",
      "149047                  Scone                 Ginger Scone   $3.25      6   \n",
      "149094          Hot chocolate            Dark chocolate Rg   $7.00      6   \n",
      "149110      Brewed herbal tea               Lemon Grass Rg   $5.00      6   \n",
      "\n",
      "       Month.1  Weekday Weekday.1  Hour  \n",
      "0          Jan        7       Sun     7  \n",
      "1          Jan        7       Sun     7  \n",
      "2          Jan        7       Sun     7  \n",
      "3          Jan        7       Sun     7  \n",
      "4          Jan        7       Sun     7  \n",
      "...        ...      ...       ...   ...  \n",
      "149045     Jun        5       Fri    18  \n",
      "149046     Jun        5       Fri    18  \n",
      "149047     Jun        5       Fri    18  \n",
      "149094     Jun        5       Fri    19  \n",
      "149110     Jun        5       Fri    20  \n",
      "\n",
      "[47782 rows x 17 columns]\n",
      "        transaction_id transaction_date transaction_time  transaction_qty  \\\n",
      "17                  18         1/1/2023          8:00:18                1   \n",
      "18                  19         1/1/2023          8:00:39                2   \n",
      "19                  20         1/1/2023          8:11:45                1   \n",
      "20                  21         1/1/2023          8:17:27                2   \n",
      "23                  24         1/1/2023          8:29:38                1   \n",
      "...                ...              ...              ...              ...   \n",
      "149111          149452        6/30/2023         20:18:41                2   \n",
      "149112          149453        6/30/2023         20:25:10                2   \n",
      "149113          149454        6/30/2023         20:31:34                1   \n",
      "149114          149455        6/30/2023         20:57:19                1   \n",
      "149115          149456        6/30/2023         20:57:19                2   \n",
      "\n",
      "        store_id  store_location  product_id  unit_price    product_category  \\\n",
      "17             8  Hell's Kitchen          42        2.50                 Tea   \n",
      "18             8  Hell's Kitchen          59        4.50  Drinking Chocolate   \n",
      "19             8  Hell's Kitchen          61        4.75  Drinking Chocolate   \n",
      "20             8  Hell's Kitchen          33        3.50              Coffee   \n",
      "23             8  Hell's Kitchen          56        2.55                 Tea   \n",
      "...          ...             ...         ...         ...                 ...   \n",
      "149111         8  Hell's Kitchen          44        2.50                 Tea   \n",
      "149112         8  Hell's Kitchen          49        3.00                 Tea   \n",
      "149113         8  Hell's Kitchen          45        3.00                 Tea   \n",
      "149114         8  Hell's Kitchen          40        3.75              Coffee   \n",
      "149115         8  Hell's Kitchen          64        0.80            Flavours   \n",
      "\n",
      "                 product_type                product_detail Revenue  Month  \\\n",
      "17          Brewed herbal tea                Lemon Grass Rg   $2.50      1   \n",
      "18              Hot chocolate             Dark chocolate Lg   $9.00      1   \n",
      "19              Hot chocolate  Sustainably Grown Organic Lg   $4.75      1   \n",
      "20      Gourmet brewed coffee                   Ethiopia Lg   $7.00      1   \n",
      "23            Brewed Chai tea      Spicy Eye Opener Chai Rg   $2.55      1   \n",
      "...                       ...                           ...     ...    ...   \n",
      "149111      Brewed herbal tea                 Peppermint Rg   $5.00      6   \n",
      "149112       Brewed Black tea          English Breakfast Lg   $6.00      6   \n",
      "149113      Brewed herbal tea                 Peppermint Lg   $3.00      6   \n",
      "149114       Barista Espresso                    Cappuccino   $3.75      6   \n",
      "149115          Regular syrup                Hazelnut syrup   $1.60      6   \n",
      "\n",
      "       Month.1  Weekday Weekday.1  Hour  \n",
      "17         Jan        7       Sun     8  \n",
      "18         Jan        7       Sun     8  \n",
      "19         Jan        7       Sun     8  \n",
      "20         Jan        7       Sun     8  \n",
      "23         Jan        7       Sun     8  \n",
      "...        ...      ...       ...   ...  \n",
      "149111     Jun        5       Fri    20  \n",
      "149112     Jun        5       Fri    20  \n",
      "149113     Jun        5       Fri    20  \n",
      "149114     Jun        5       Fri    20  \n",
      "149115     Jun        5       Fri    20  \n",
      "\n",
      "[50735 rows x 17 columns]\n",
      "        transaction_id transaction_date transaction_time  transaction_qty  \\\n",
      "105                106         1/1/2023         11:01:48                1   \n",
      "106                107         1/1/2023         11:01:58                1   \n",
      "107                108         1/1/2023         11:01:58                1   \n",
      "111                112         1/1/2023         11:08:11                1   \n",
      "113                114         1/1/2023         11:09:01                1   \n",
      "...                ...              ...              ...              ...   \n",
      "149103          149444        6/30/2023         19:51:59                2   \n",
      "149104          149445        6/30/2023         19:52:28                2   \n",
      "149105          149446        6/30/2023         19:53:46                1   \n",
      "149107          149448        6/30/2023         19:57:49                2   \n",
      "149108          149449        6/30/2023         19:57:49                1   \n",
      "\n",
      "        store_id store_location  product_id  unit_price    product_category  \\\n",
      "105            3        Astoria          22        2.00              Coffee   \n",
      "106            3        Astoria          38        3.75              Coffee   \n",
      "107            3        Astoria          75        3.50              Bakery   \n",
      "111            3        Astoria          59        4.50  Drinking Chocolate   \n",
      "113            3        Astoria          59        4.50  Drinking Chocolate   \n",
      "...          ...            ...         ...         ...                 ...   \n",
      "149103         3        Astoria          26        3.00              Coffee   \n",
      "149104         3        Astoria          34        2.45              Coffee   \n",
      "149105         3        Astoria          24        3.00              Coffee   \n",
      "149107         3        Astoria          54        2.50                 Tea   \n",
      "149108         3        Astoria          70        3.25              Bakery   \n",
      "\n",
      "                 product_type               product_detail Revenue  Month  \\\n",
      "105               Drip coffee  Our Old Time Diner Blend Sm   $2.00      1   \n",
      "106          Barista Espresso                        Latte   $3.75      1   \n",
      "107                    Pastry                    Croissant   $3.50      1   \n",
      "111             Hot chocolate            Dark chocolate Lg   $4.50      1   \n",
      "113             Hot chocolate            Dark chocolate Lg   $4.50      1   \n",
      "...                       ...                          ...     ...    ...   \n",
      "149103  Organic brewed coffee                 Brazilian Rg   $6.00      6   \n",
      "149104  Premium brewed coffee     Jamaican Coffee River Sm   $4.90      6   \n",
      "149105            Drip coffee  Our Old Time Diner Blend Lg   $3.00      6   \n",
      "149107        Brewed Chai tea      Morning Sunrise Chai Rg   $5.00      6   \n",
      "149108                  Scone              Cranberry Scone   $3.25      6   \n",
      "\n",
      "       Month.1  Weekday Weekday.1  Hour  \n",
      "105        Jan        7       Sun    11  \n",
      "106        Jan        7       Sun    11  \n",
      "107        Jan        7       Sun    11  \n",
      "111        Jan        7       Sun    11  \n",
      "113        Jan        7       Sun    11  \n",
      "...        ...      ...       ...   ...  \n",
      "149103     Jun        5       Fri    19  \n",
      "149104     Jun        5       Fri    19  \n",
      "149105     Jun        5       Fri    19  \n",
      "149107     Jun        5       Fri    19  \n",
      "149108     Jun        5       Fri    19  \n",
      "\n",
      "[50599 rows x 17 columns]\n"
     ]
    }
   ],
   "source": [
    "# count how many unique store locations there are.\n",
    "unique_locations = df['store_location'].nunique()\n",
    "print('There are {} unique store locations.'.format(unique_locations))\n",
    "\n",
    "# create a list of the unique locations\n",
    "locations = df['store_location'].unique()\n",
    "print(locations)\n",
    "\n",
    "# group by store location\n",
    "grouped_locations = df.groupby('store_location')\n",
    "\n",
    "# create dictionary to store the smaller dataframes\n",
    "dfs = {location: group for location, group in grouped_locations}\n",
    "\n",
    "# Access the smaller dataframes\n",
    "df_lower_manhattan = dfs['Lower Manhattan']\n",
    "df_hells_kitchen = dfs['Hell\\'s Kitchen']\n",
    "df_astoria = dfs['Astoria']\n",
    "\n",
    "# print the smaller dataframes\n",
    "print(df_lower_manhattan)\n",
    "print(df_hells_kitchen)\n",
    "print(df_astoria)"
   ]
  },
  {
   "cell_type": "markdown",
   "metadata": {},
   "source": [
    "highest and lowest for each location"
   ]
  },
  {
   "cell_type": "code",
   "execution_count": 22,
   "metadata": {},
   "outputs": [
    {
     "name": "stdout",
     "output_type": "stream",
     "text": [
      "Gourmet brewed coffee\n",
      "Barista Espresso\n",
      "Brewed Chai tea\n"
     ]
    }
   ],
   "source": [
    "# highest selling product type for each location\n",
    "highest_selling_product_lower_manhattan = df_lower_manhattan.groupby('product_type')['transaction_qty'].sum().idxmax()\n",
    "print(highest_selling_product_lower_manhattan)\n",
    "highest_selling_product_hells_kitchen = df_hells_kitchen.groupby('product_type')['transaction_qty'].sum().idxmax()\n",
    "print(highest_selling_product_hells_kitchen)\n",
    "highest_selling_product_astoria = df_astoria.groupby('product_type')['transaction_qty'].sum().idxmax()\n",
    "print(highest_selling_product_astoria)"
   ]
  },
  {
   "cell_type": "code",
   "execution_count": 19,
   "metadata": {},
   "outputs": [
    {
     "name": "stdout",
     "output_type": "stream",
     "text": [
      "Green beans\n",
      "Clothing\n",
      "Green beans\n"
     ]
    }
   ],
   "source": [
    "# lowest selling product type for each location\n",
    "lowest_selling_product_lower_manhattan = df_lower_manhattan.groupby('product_type')['transaction_qty'].sum().idxmin()\n",
    "print(lowest_selling_product_lower_manhattan)\n",
    "lowest_selling_product_hells_kitchen = df_hells_kitchen.groupby('product_type')['transaction_qty'].sum().idxmin()\n",
    "print(lowest_selling_product_hells_kitchen)\n",
    "lowest_selling_product_astoria = df_astoria.groupby('product_type')['transaction_qty'].sum().idxmin()\n",
    "print(lowest_selling_product_astoria)"
   ]
  },
  {
   "cell_type": "markdown",
   "metadata": {},
   "source": [
    "## Conclusions"
   ]
  }
 ],
 "metadata": {
  "kernelspec": {
   "display_name": "myenv",
   "language": "python",
   "name": "python3"
  },
  "language_info": {
   "codemirror_mode": {
    "name": "ipython",
    "version": 3
   },
   "file_extension": ".py",
   "mimetype": "text/x-python",
   "name": "python",
   "nbconvert_exporter": "python",
   "pygments_lexer": "ipython3",
   "version": "3.10.12"
  }
 },
 "nbformat": 4,
 "nbformat_minor": 2
}
