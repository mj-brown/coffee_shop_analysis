{
 "cells": [
  {
   "cell_type": "markdown",
   "metadata": {},
   "source": [
    "# Analysis of Coffee Shop Sales\n",
    "\n",
    "In this analysis we have a dataset of various coffee shops in NYC and the transactions that occured at those coffee shops. The purpose of this analysis is to conduct an evaluation of the data to answer the following questions:\n",
    "\n",
    "1. Does the location of the coffee shop have an impact on the number of transactions?\n",
    "2. Does the time of day have an impact on the number of transactions?\n",
    "3. Does the location of the coffee shop have an impact on the product type of the transactions?\n",
    "4. What is the most sold product?\n",
    "5. What is the least sold product?\n",
    "6. Do coffee shops sell more coffee in the winter months?"
   ]
  },
  {
   "cell_type": "markdown",
   "metadata": {},
   "source": [
    "## Introduction"
   ]
  },
  {
   "cell_type": "markdown",
   "metadata": {},
   "source": [
    "## Analysis"
   ]
  },
  {
   "cell_type": "markdown",
   "metadata": {},
   "source": [
    "## Conclusions"
   ]
  }
 ],
 "metadata": {
  "kernelspec": {
   "display_name": "myenv",
   "language": "python",
   "name": "python3"
  },
  "language_info": {
   "name": "python",
   "version": "3.10.12"
  }
 },
 "nbformat": 4,
 "nbformat_minor": 2
}
